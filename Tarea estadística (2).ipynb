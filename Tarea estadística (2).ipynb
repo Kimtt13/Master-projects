{
 "cells": [
  {
   "cell_type": "markdown",
   "id": "454b67b5",
   "metadata": {},
   "source": [
    "# Manuel Romero García\n",
    "## Máster en Big Data y Data Science UCM\n",
    "### Práctica Estadística"
   ]
  },
  {
   "cell_type": "markdown",
   "id": "6e36a230",
   "metadata": {},
   "source": [
    "## Cargar y explorar dataset"
   ]
  },
  {
   "cell_type": "code",
   "execution_count": 1,
   "id": "df8915ed",
   "metadata": {},
   "outputs": [
    {
     "data": {
      "text/html": [
       "<div>\n",
       "<style scoped>\n",
       "    .dataframe tbody tr th:only-of-type {\n",
       "        vertical-align: middle;\n",
       "    }\n",
       "\n",
       "    .dataframe tbody tr th {\n",
       "        vertical-align: top;\n",
       "    }\n",
       "\n",
       "    .dataframe thead th {\n",
       "        text-align: right;\n",
       "    }\n",
       "</style>\n",
       "<table border=\"1\" class=\"dataframe\">\n",
       "  <thead>\n",
       "    <tr style=\"text-align: right;\">\n",
       "      <th></th>\n",
       "      <th>Grupo de control</th>\n",
       "      <th>Nivel glucosa basal</th>\n",
       "      <th>Nivel glucosa 60 min</th>\n",
       "    </tr>\n",
       "  </thead>\n",
       "  <tbody>\n",
       "    <tr>\n",
       "      <th>0</th>\n",
       "      <td>1</td>\n",
       "      <td>90</td>\n",
       "      <td>159</td>\n",
       "    </tr>\n",
       "    <tr>\n",
       "      <th>1</th>\n",
       "      <td>1</td>\n",
       "      <td>82</td>\n",
       "      <td>151</td>\n",
       "    </tr>\n",
       "    <tr>\n",
       "      <th>2</th>\n",
       "      <td>1</td>\n",
       "      <td>80</td>\n",
       "      <td>148</td>\n",
       "    </tr>\n",
       "    <tr>\n",
       "      <th>3</th>\n",
       "      <td>1</td>\n",
       "      <td>75</td>\n",
       "      <td>138</td>\n",
       "    </tr>\n",
       "    <tr>\n",
       "      <th>4</th>\n",
       "      <td>1</td>\n",
       "      <td>74</td>\n",
       "      <td>141</td>\n",
       "    </tr>\n",
       "    <tr>\n",
       "      <th>...</th>\n",
       "      <td>...</td>\n",
       "      <td>...</td>\n",
       "      <td>...</td>\n",
       "    </tr>\n",
       "    <tr>\n",
       "      <th>60</th>\n",
       "      <td>2</td>\n",
       "      <td>95</td>\n",
       "      <td>169</td>\n",
       "    </tr>\n",
       "    <tr>\n",
       "      <th>61</th>\n",
       "      <td>2</td>\n",
       "      <td>99</td>\n",
       "      <td>172</td>\n",
       "    </tr>\n",
       "    <tr>\n",
       "      <th>62</th>\n",
       "      <td>2</td>\n",
       "      <td>88</td>\n",
       "      <td>173</td>\n",
       "    </tr>\n",
       "    <tr>\n",
       "      <th>63</th>\n",
       "      <td>2</td>\n",
       "      <td>84</td>\n",
       "      <td>188</td>\n",
       "    </tr>\n",
       "    <tr>\n",
       "      <th>64</th>\n",
       "      <td>2</td>\n",
       "      <td>92</td>\n",
       "      <td>160</td>\n",
       "    </tr>\n",
       "  </tbody>\n",
       "</table>\n",
       "<p>65 rows × 3 columns</p>\n",
       "</div>"
      ],
      "text/plain": [
       "    Grupo de control  Nivel glucosa basal  Nivel glucosa 60 min\n",
       "0                  1                   90                   159\n",
       "1                  1                   82                   151\n",
       "2                  1                   80                   148\n",
       "3                  1                   75                   138\n",
       "4                  1                   74                   141\n",
       "..               ...                  ...                   ...\n",
       "60                 2                   95                   169\n",
       "61                 2                   99                   172\n",
       "62                 2                   88                   173\n",
       "63                 2                   84                   188\n",
       "64                 2                   92                   160\n",
       "\n",
       "[65 rows x 3 columns]"
      ]
     },
     "execution_count": 1,
     "metadata": {},
     "output_type": "execute_result"
    }
   ],
   "source": [
    "import pandas as pd\n",
    "df = pd.read_excel(\"datasets/EVALMASTER.xlsx\")\n",
    "df"
   ]
  },
  {
   "cell_type": "code",
   "execution_count": 2,
   "id": "29e71777",
   "metadata": {},
   "outputs": [
    {
     "data": {
      "text/plain": [
       "Grupo de control        int64\n",
       "Nivel glucosa basal     int64\n",
       "Nivel glucosa 60 min    int64\n",
       "dtype: object"
      ]
     },
     "execution_count": 2,
     "metadata": {},
     "output_type": "execute_result"
    }
   ],
   "source": [
    "df.dtypes\n",
    "# Como son todos números enteros, debemos cambiar el grupo de control, para que no haya confusiones"
   ]
  },
  {
   "cell_type": "code",
   "execution_count": 3,
   "id": "c0f83945",
   "metadata": {},
   "outputs": [
    {
     "data": {
      "text/plain": [
       "array(['<30', '>30'], dtype=object)"
      ]
     },
     "execution_count": 3,
     "metadata": {},
     "output_type": "execute_result"
    }
   ],
   "source": [
    "# Dividimos el grupo de control en jóvenes (<30 años) y adultos (>30 años)\n",
    "import numpy as np\n",
    "df[\"Grupo de control\"] = np.where(df[\"Grupo de control\"] == 1, \"<30\", \">30\")\n",
    "df[\"Grupo de control\"].unique()"
   ]
  },
  {
   "cell_type": "markdown",
   "id": "f7d05194",
   "metadata": {},
   "source": [
    "## Ejercicio 1"
   ]
  },
  {
   "cell_type": "markdown",
   "id": "862979a6",
   "metadata": {},
   "source": [
    "### a) Obtener las medidas de centralización y dispersión para cada uno de los dos grupos de control para el nivel de glucosa basal, especificando para cada uno de los casos si la media es o no representativa"
   ]
  },
  {
   "cell_type": "markdown",
   "id": "1d152a79",
   "metadata": {},
   "source": [
    "#### Medidas de centralización"
   ]
  },
  {
   "cell_type": "code",
   "execution_count": 9,
   "id": "ca271006",
   "metadata": {},
   "outputs": [
    {
     "data": {
      "text/html": [
       "<div>\n",
       "<style scoped>\n",
       "    .dataframe tbody tr th:only-of-type {\n",
       "        vertical-align: middle;\n",
       "    }\n",
       "\n",
       "    .dataframe tbody tr th {\n",
       "        vertical-align: top;\n",
       "    }\n",
       "\n",
       "    .dataframe thead tr th {\n",
       "        text-align: left;\n",
       "    }\n",
       "\n",
       "    .dataframe thead tr:last-of-type th {\n",
       "        text-align: right;\n",
       "    }\n",
       "</style>\n",
       "<table border=\"1\" class=\"dataframe\">\n",
       "  <thead>\n",
       "    <tr>\n",
       "      <th></th>\n",
       "      <th colspan=\"3\" halign=\"left\">Nivel glucosa basal</th>\n",
       "    </tr>\n",
       "    <tr>\n",
       "      <th></th>\n",
       "      <th>mean</th>\n",
       "      <th>median</th>\n",
       "      <th>mode</th>\n",
       "    </tr>\n",
       "    <tr>\n",
       "      <th>Grupo de control</th>\n",
       "      <th></th>\n",
       "      <th></th>\n",
       "      <th></th>\n",
       "    </tr>\n",
       "  </thead>\n",
       "  <tbody>\n",
       "    <tr>\n",
       "      <th>&lt;30</th>\n",
       "      <td>84.685714</td>\n",
       "      <td>82.0</td>\n",
       "      <td>([75], [3])</td>\n",
       "    </tr>\n",
       "    <tr>\n",
       "      <th>&gt;30</th>\n",
       "      <td>89.400000</td>\n",
       "      <td>90.0</td>\n",
       "      <td>([88], [4])</td>\n",
       "    </tr>\n",
       "  </tbody>\n",
       "</table>\n",
       "</div>"
      ],
      "text/plain": [
       "                 Nivel glucosa basal                    \n",
       "                                mean median         mode\n",
       "Grupo de control                                        \n",
       "<30                        84.685714   82.0  ([75], [3])\n",
       ">30                        89.400000   90.0  ([88], [4])"
      ]
     },
     "execution_count": 9,
     "metadata": {},
     "output_type": "execute_result"
    }
   ],
   "source": [
    "# definimos la moda porque no viene incluida en el módulo \"agg\" de pandas\n",
    "from scipy import stats\n",
    "def mode(x):\n",
    "    return stats.mode(x)\n",
    "\n",
    "df[[\"Nivel glucosa basal\", \"Grupo de control\"]].groupby(\"Grupo de control\").agg(['mean', 'median', mode])"
   ]
  },
  {
   "cell_type": "markdown",
   "id": "4365e426",
   "metadata": {},
   "source": [
    "#### Ambos grupos tienen medias relativamente similares y su mediana está  cerca de la media, la primera ligeramente por debajo (lo que indica que la distribución está escorada a la izquierda), y la segunda ligeramente por encima (lo que indica lo contrario). Ambos tiene una moda cercana a la media, aunque en los jóvenes está algo por debajo, lo que vuelve a confirmar su distribución escorada. En el grupo de adultos, la moda se repite algo más que en los jóvenes (4 veces frente a 3)"
   ]
  },
  {
   "cell_type": "markdown",
   "id": "08a11ca4",
   "metadata": {},
   "source": [
    "#### Medidas de dispersión"
   ]
  },
  {
   "cell_type": "code",
   "execution_count": 10,
   "id": "f225b138",
   "metadata": {},
   "outputs": [
    {
     "data": {
      "text/html": [
       "<div>\n",
       "<style scoped>\n",
       "    .dataframe tbody tr th:only-of-type {\n",
       "        vertical-align: middle;\n",
       "    }\n",
       "\n",
       "    .dataframe tbody tr th {\n",
       "        vertical-align: top;\n",
       "    }\n",
       "\n",
       "    .dataframe thead tr th {\n",
       "        text-align: left;\n",
       "    }\n",
       "\n",
       "    .dataframe thead tr:last-of-type th {\n",
       "        text-align: right;\n",
       "    }\n",
       "</style>\n",
       "<table border=\"1\" class=\"dataframe\">\n",
       "  <thead>\n",
       "    <tr>\n",
       "      <th></th>\n",
       "      <th colspan=\"6\" halign=\"left\">Nivel glucosa basal</th>\n",
       "    </tr>\n",
       "    <tr>\n",
       "      <th></th>\n",
       "      <th>var</th>\n",
       "      <th>std</th>\n",
       "      <th>cv</th>\n",
       "      <th>rango</th>\n",
       "      <th>rango_intercuart</th>\n",
       "      <th>mad</th>\n",
       "    </tr>\n",
       "    <tr>\n",
       "      <th>Grupo de control</th>\n",
       "      <th></th>\n",
       "      <th></th>\n",
       "      <th></th>\n",
       "      <th></th>\n",
       "      <th></th>\n",
       "      <th></th>\n",
       "    </tr>\n",
       "  </thead>\n",
       "  <tbody>\n",
       "    <tr>\n",
       "      <th>&lt;30</th>\n",
       "      <td>78.221849</td>\n",
       "      <td>8.844312</td>\n",
       "      <td>0.102934</td>\n",
       "      <td>38</td>\n",
       "      <td>12.0</td>\n",
       "      <td>7.430204</td>\n",
       "    </tr>\n",
       "    <tr>\n",
       "      <th>&gt;30</th>\n",
       "      <td>53.972414</td>\n",
       "      <td>7.346592</td>\n",
       "      <td>0.080795</td>\n",
       "      <td>27</td>\n",
       "      <td>9.5</td>\n",
       "      <td>5.773333</td>\n",
       "    </tr>\n",
       "  </tbody>\n",
       "</table>\n",
       "</div>"
      ],
      "text/plain": [
       "                 Nivel glucosa basal                            \\\n",
       "                                 var       std        cv rango   \n",
       "Grupo de control                                                 \n",
       "<30                        78.221849  8.844312  0.102934    38   \n",
       ">30                        53.972414  7.346592  0.080795    27   \n",
       "\n",
       "                                             \n",
       "                 rango_intercuart       mad  \n",
       "Grupo de control                             \n",
       "<30                          12.0  7.430204  \n",
       ">30                           9.5  5.773333  "
      ]
     },
     "execution_count": 10,
     "metadata": {},
     "output_type": "execute_result"
    }
   ],
   "source": [
    "# Hacemos el equivalente con el coeficiente de variación, el rango y el rango intercuartílico. La variable \"mad\" hace referencia a la desviación absoluta de la media\n",
    "def cv(x):\n",
    "    return stats.variation(x)\n",
    "\n",
    "def rango(x):\n",
    "    return max(x) - min(x)\n",
    "\n",
    "def rango_intercuart(x):\n",
    "    return (np.quantile(x, 0.75) - np.quantile(x, 0.25))\n",
    "\n",
    "df[[\"Nivel glucosa basal\", \"Grupo de control\"]].groupby(\"Grupo de control\").agg(['var', 'std', cv, rango, rango_intercuart, 'mad'])"
   ]
  },
  {
   "cell_type": "markdown",
   "id": "297afe67",
   "metadata": {},
   "source": [
    "#### El primer grupo parece tener una mayor dispersión que el segundo en todos los parámetros, pero tampoco podemos decir que esta sea muy elevada en ningún caso. El CV es inferior al 0.30 en ambos casos, por lo que podemos decir que las muestras son representativas, partiendo siempre de que han sido recogidas mediante muestreo aleatorio"
   ]
  },
  {
   "cell_type": "markdown",
   "id": "dc84b2f0",
   "metadata": {},
   "source": [
    "### b) Estudiar la simetría y la curtosis del nivel de glucosa basal en los adultos ( grupo de control 2)"
   ]
  },
  {
   "cell_type": "code",
   "execution_count": 15,
   "id": "1da32c03",
   "metadata": {},
   "outputs": [
    {
     "name": "stdout",
     "output_type": "stream",
     "text": [
      "Curtosis en los adultos: -0.7087558433756853\n",
      "Asimetría en los adultos: -0.0070902831171634545\n"
     ]
    }
   ],
   "source": [
    "x = df.loc[df[\"Grupo de control\"] == \">30\"][\"Nivel glucosa basal\"]\n",
    "\n",
    "print(f\"Curtosis en los adultos: {stats.kurtosis(x)}\")\n",
    "print(f\"Asimetría en los adultos: {stats.skew(x)}\")"
   ]
  },
  {
   "cell_type": "markdown",
   "id": "c20b1319",
   "metadata": {},
   "source": [
    "#### Parece que la distribución en los adultos es aplanada (g < 0) y está muy ligeramente escorada a la derecha"
   ]
  },
  {
   "cell_type": "markdown",
   "id": "8ac43c31",
   "metadata": {},
   "source": [
    "#### Lo comprobamos gráficamente comparándola con una normal *y*, la cual vendrá definida por:\n",
    "\n",
    "$y \\sim \\mathcal{N}(\\bar{x}, s_x)$\n",
    "\n",
    "$n_y = n_x$"
   ]
  },
  {
   "cell_type": "code",
   "execution_count": 17,
   "id": "282adca4",
   "metadata": {},
   "outputs": [
    {
     "data": {
      "image/png": "[encoded data removed]",
      "text/plain": [
       "<Figure size 720x576 with 1 Axes>"
      ]
     },
     "metadata": {
      "needs_background": "light"
     },
     "output_type": "display_data"
    }
   ],
   "source": [
    "import seaborn as sns\n",
    "import matplotlib.pyplot as plt\n",
    "# definimos una distribución normal con media igual a la muestra y desviación típica igual a la desviación típica muestral de esta \n",
    "# Por eso, al calcular la desviación, establecemos cuántos son los grados de libertad (n - ddof)\n",
    "y = np.random.normal(loc=np.mean(x), scale=np.std(x, ddof=1), size=len(x))\n",
    "plt.figure(figsize=(10, 8))\n",
    "sns.kdeplot(x=y)\n",
    "sns.kdeplot(x=x)\n",
    "plt.title(\"Azul=Normal, Naranja=Muestra\");"
   ]
  },
  {
   "cell_type": "markdown",
   "id": "e789df3a",
   "metadata": {},
   "source": [
    "### c) Indicar para cada una de las variables de estudio y en el grupo de control 1 el valor de los cuartiles y su significado y obtener el boxplot ( diagrama de cajas) correspondiente. Estudiar la presencia de valores atípicos."
   ]
  },
  {
   "cell_type": "markdown",
   "id": "9ffde3f3",
   "metadata": {},
   "source": [
    "#### Cuartiles"
   ]
  },
  {
   "cell_type": "code",
   "execution_count": 18,
   "id": "6dd5f714",
   "metadata": {},
   "outputs": [
    {
     "data": {
      "text/html": [
       "<div>\n",
       "<style scoped>\n",
       "    .dataframe tbody tr th:only-of-type {\n",
       "        vertical-align: middle;\n",
       "    }\n",
       "\n",
       "    .dataframe tbody tr th {\n",
       "        vertical-align: top;\n",
       "    }\n",
       "\n",
       "    .dataframe thead tr th {\n",
       "        text-align: left;\n",
       "    }\n",
       "\n",
       "    .dataframe thead tr:last-of-type th {\n",
       "        text-align: right;\n",
       "    }\n",
       "</style>\n",
       "<table border=\"1\" class=\"dataframe\">\n",
       "  <thead>\n",
       "    <tr>\n",
       "      <th></th>\n",
       "      <th colspan=\"3\" halign=\"left\">Nivel glucosa basal</th>\n",
       "      <th colspan=\"3\" halign=\"left\">Nivel glucosa 60 min</th>\n",
       "    </tr>\n",
       "    <tr>\n",
       "      <th></th>\n",
       "      <th>cuartil1</th>\n",
       "      <th>cuartil2</th>\n",
       "      <th>cuartil3</th>\n",
       "      <th>cuartil1</th>\n",
       "      <th>cuartil2</th>\n",
       "      <th>cuartil3</th>\n",
       "    </tr>\n",
       "    <tr>\n",
       "      <th>Grupo de control</th>\n",
       "      <th></th>\n",
       "      <th></th>\n",
       "      <th></th>\n",
       "      <th></th>\n",
       "      <th></th>\n",
       "      <th></th>\n",
       "    </tr>\n",
       "  </thead>\n",
       "  <tbody>\n",
       "    <tr>\n",
       "      <th>&lt;30</th>\n",
       "      <td>78.5</td>\n",
       "      <td>82.0</td>\n",
       "      <td>90.5</td>\n",
       "      <td>146.5</td>\n",
       "      <td>150.0</td>\n",
       "      <td>154.5</td>\n",
       "    </tr>\n",
       "  </tbody>\n",
       "</table>\n",
       "</div>"
      ],
      "text/plain": [
       "                 Nivel glucosa basal                   Nivel glucosa 60 min  \\\n",
       "                            cuartil1 cuartil2 cuartil3             cuartil1   \n",
       "Grupo de control                                                              \n",
       "<30                             78.5     82.0     90.5                146.5   \n",
       "\n",
       "                                    \n",
       "                 cuartil2 cuartil3  \n",
       "Grupo de control                    \n",
       "<30                 150.0    154.5  "
      ]
     },
     "execution_count": 18,
     "metadata": {},
     "output_type": "execute_result"
    }
   ],
   "source": [
    "def cuartil1(x): \n",
    "    return np.quantile(x, 0.25)\n",
    "    \n",
    "def cuartil2(x): \n",
    "    return np.quantile(x, 0.5)\n",
    "\n",
    "def cuartil3(x): \n",
    "    return np.quantile(x, 0.75)\n",
    "    \n",
    "x = df.loc[df[\"Grupo de control\"] == \"<30\"]\n",
    "\n",
    "x.groupby(\"Grupo de control\").agg([cuartil1, cuartil2, cuartil3])"
   ]
  },
  {
   "cell_type": "markdown",
   "id": "afc3e114",
   "metadata": {},
   "source": [
    "#### el 50% de los datos de los jóvenes se encuentran concentrados entre los valores 78.5 y 90.5 en el nivel basal y entre los 146.5 y los 154.5 miligramos al pasar la hora, por lo que ha habido un aumento considerable de la glucosa"
   ]
  },
  {
   "cell_type": "markdown",
   "id": "292af04f",
   "metadata": {},
   "source": [
    "#### Boxplot"
   ]
  },
  {
   "cell_type": "code",
   "execution_count": 19,
   "id": "901a3009",
   "metadata": {},
   "outputs": [
    {
     "data": {
      "image/png": "[encoded data removed]",
      "text/plain": [
       "<Figure size 720x720 with 1 Axes>"
      ]
     },
     "metadata": {
      "needs_background": "light"
     },
     "output_type": "display_data"
    }
   ],
   "source": [
    "import matplotlib.pyplot as plt\n",
    "\n",
    "plt.figure(figsize=(10, 10))\n",
    "sns.boxplot(data=pd.melt(x.drop(\"Grupo de control\", axis = 1)), x=\"variable\", y=\"value\");"
   ]
  },
  {
   "cell_type": "markdown",
   "id": "c7bca8b7",
   "metadata": {},
   "source": [
    "#### Observamos algunos valores atípicos el en nivel de glucosa al pasar 60 min, tanto por debajo (<140g) como por encima (>170g) de los \"bigotes\", por lo que hay algunos individuos jóvenes donde se concentra mucho más la glucosa que en otros, y viceversa. Vamos a observar cuáles son:"
   ]
  },
  {
   "cell_type": "code",
   "execution_count": 20,
   "id": "375b250f",
   "metadata": {},
   "outputs": [
    {
     "data": {
      "text/html": [
       "<div>\n",
       "<style scoped>\n",
       "    .dataframe tbody tr th:only-of-type {\n",
       "        vertical-align: middle;\n",
       "    }\n",
       "\n",
       "    .dataframe tbody tr th {\n",
       "        vertical-align: top;\n",
       "    }\n",
       "\n",
       "    .dataframe thead th {\n",
       "        text-align: right;\n",
       "    }\n",
       "</style>\n",
       "<table border=\"1\" class=\"dataframe\">\n",
       "  <thead>\n",
       "    <tr style=\"text-align: right;\">\n",
       "      <th></th>\n",
       "      <th>Grupo de control</th>\n",
       "      <th>Nivel glucosa basal</th>\n",
       "      <th>Nivel glucosa 60 min</th>\n",
       "    </tr>\n",
       "  </thead>\n",
       "  <tbody>\n",
       "    <tr>\n",
       "      <th>6</th>\n",
       "      <td>&lt;30</td>\n",
       "      <td>103</td>\n",
       "      <td>172</td>\n",
       "    </tr>\n",
       "    <tr>\n",
       "      <th>21</th>\n",
       "      <td>&lt;30</td>\n",
       "      <td>89</td>\n",
       "      <td>165</td>\n",
       "    </tr>\n",
       "    <tr>\n",
       "      <th>17</th>\n",
       "      <td>&lt;30</td>\n",
       "      <td>100</td>\n",
       "      <td>161</td>\n",
       "    </tr>\n",
       "    <tr>\n",
       "      <th>24</th>\n",
       "      <td>&lt;30</td>\n",
       "      <td>99</td>\n",
       "      <td>160</td>\n",
       "    </tr>\n",
       "    <tr>\n",
       "      <th>32</th>\n",
       "      <td>&lt;30</td>\n",
       "      <td>97</td>\n",
       "      <td>159</td>\n",
       "    </tr>\n",
       "  </tbody>\n",
       "</table>\n",
       "</div>"
      ],
      "text/plain": [
       "   Grupo de control  Nivel glucosa basal  Nivel glucosa 60 min\n",
       "6               <30                  103                   172\n",
       "21              <30                   89                   165\n",
       "17              <30                  100                   161\n",
       "24              <30                   99                   160\n",
       "32              <30                   97                   159"
      ]
     },
     "execution_count": 20,
     "metadata": {},
     "output_type": "execute_result"
    }
   ],
   "source": [
    "x.sort_values(\"Nivel glucosa 60 min\", ascending=False).head()"
   ]
  },
  {
   "cell_type": "code",
   "execution_count": 21,
   "id": "99c543f7",
   "metadata": {},
   "outputs": [
    {
     "data": {
      "text/html": [
       "<div>\n",
       "<style scoped>\n",
       "    .dataframe tbody tr th:only-of-type {\n",
       "        vertical-align: middle;\n",
       "    }\n",
       "\n",
       "    .dataframe tbody tr th {\n",
       "        vertical-align: top;\n",
       "    }\n",
       "\n",
       "    .dataframe thead th {\n",
       "        text-align: right;\n",
       "    }\n",
       "</style>\n",
       "<table border=\"1\" class=\"dataframe\">\n",
       "  <thead>\n",
       "    <tr style=\"text-align: right;\">\n",
       "      <th></th>\n",
       "      <th>Grupo de control</th>\n",
       "      <th>Nivel glucosa basal</th>\n",
       "      <th>Nivel glucosa 60 min</th>\n",
       "    </tr>\n",
       "  </thead>\n",
       "  <tbody>\n",
       "    <tr>\n",
       "      <th>22</th>\n",
       "      <td>&lt;30</td>\n",
       "      <td>76</td>\n",
       "      <td>144</td>\n",
       "    </tr>\n",
       "    <tr>\n",
       "      <th>4</th>\n",
       "      <td>&lt;30</td>\n",
       "      <td>74</td>\n",
       "      <td>141</td>\n",
       "    </tr>\n",
       "    <tr>\n",
       "      <th>11</th>\n",
       "      <td>&lt;30</td>\n",
       "      <td>77</td>\n",
       "      <td>141</td>\n",
       "    </tr>\n",
       "    <tr>\n",
       "      <th>3</th>\n",
       "      <td>&lt;30</td>\n",
       "      <td>75</td>\n",
       "      <td>138</td>\n",
       "    </tr>\n",
       "    <tr>\n",
       "      <th>8</th>\n",
       "      <td>&lt;30</td>\n",
       "      <td>65</td>\n",
       "      <td>131</td>\n",
       "    </tr>\n",
       "  </tbody>\n",
       "</table>\n",
       "</div>"
      ],
      "text/plain": [
       "   Grupo de control  Nivel glucosa basal  Nivel glucosa 60 min\n",
       "22              <30                   76                   144\n",
       "4               <30                   74                   141\n",
       "11              <30                   77                   141\n",
       "3               <30                   75                   138\n",
       "8               <30                   65                   131"
      ]
     },
     "execution_count": 21,
     "metadata": {},
     "output_type": "execute_result"
    }
   ],
   "source": [
    "x.sort_values(\"Nivel glucosa 60 min\", ascending=False).tail()"
   ]
  },
  {
   "cell_type": "markdown",
   "id": "da9298d4",
   "metadata": {},
   "source": [
    "#### Parece que los valores se desvían poco del segundo boxplot, ya que tan sólo hay un valor que supera los 170mg y dos que no alcanzan los 140mg"
   ]
  },
  {
   "cell_type": "markdown",
   "id": "e9d0993e",
   "metadata": {},
   "source": [
    "### d) Estudiar la normalidad de los datos de cada uno de los grupos de control estudiados para el nivel de glucosa pasados 60 minutos."
   ]
  },
  {
   "cell_type": "markdown",
   "id": "a7c10d7c",
   "metadata": {},
   "source": [
    "#### Observamos el tamaño de las muestras para ver qué test realizamos"
   ]
  },
  {
   "cell_type": "code",
   "execution_count": 22,
   "id": "36daa98b",
   "metadata": {},
   "outputs": [
    {
     "data": {
      "text/html": [
       "<div>\n",
       "<style scoped>\n",
       "    .dataframe tbody tr th:only-of-type {\n",
       "        vertical-align: middle;\n",
       "    }\n",
       "\n",
       "    .dataframe tbody tr th {\n",
       "        vertical-align: top;\n",
       "    }\n",
       "\n",
       "    .dataframe thead th {\n",
       "        text-align: right;\n",
       "    }\n",
       "</style>\n",
       "<table border=\"1\" class=\"dataframe\">\n",
       "  <thead>\n",
       "    <tr style=\"text-align: right;\">\n",
       "      <th></th>\n",
       "      <th>Nivel glucosa 60 min</th>\n",
       "    </tr>\n",
       "    <tr>\n",
       "      <th>Grupo de control</th>\n",
       "      <th></th>\n",
       "    </tr>\n",
       "  </thead>\n",
       "  <tbody>\n",
       "    <tr>\n",
       "      <th>&lt;30</th>\n",
       "      <td>35</td>\n",
       "    </tr>\n",
       "    <tr>\n",
       "      <th>&gt;30</th>\n",
       "      <td>30</td>\n",
       "    </tr>\n",
       "  </tbody>\n",
       "</table>\n",
       "</div>"
      ],
      "text/plain": [
       "                  Nivel glucosa 60 min\n",
       "Grupo de control                      \n",
       "<30                                 35\n",
       ">30                                 30"
      ]
     },
     "execution_count": 22,
     "metadata": {},
     "output_type": "execute_result"
    }
   ],
   "source": [
    "x = df[[\"Nivel glucosa 60 min\", \"Grupo de control\"]]\n",
    "x.groupby(\"Grupo de control\").count()"
   ]
  },
  {
   "cell_type": "markdown",
   "id": "407d3fc8",
   "metadata": {},
   "source": [
    "#### Como n < 50 para cada grupo, lo mejor es hacer la prueba de Shapiro-Wilk, que asume como hipótesis nula que la distribución es normal:\n",
    "\n",
    "$H_0: X \\sim \\mathcal{N}(\\mu, \\sigma)$\n",
    "\n",
    "$H_1: X \\nsim \\mathcal{N}(\\mu, \\sigma)$"
   ]
  },
  {
   "cell_type": "code",
   "execution_count": 23,
   "id": "ec976d78",
   "metadata": {},
   "outputs": [
    {
     "name": "stdout",
     "output_type": "stream",
     "text": [
      "Los resultados para el test de Shapiro-Wilk en los jóvenes son estos: ShapiroResult(statistic=0.9626079201698303, pvalue=0.27341291308403015)\n",
      "Los resultados para el test de Shapiro-Wilk en los adultos son estos: ShapiroResult(statistic=0.9776136875152588, pvalue=0.7591814398765564)\n"
     ]
    }
   ],
   "source": [
    "a = stats.shapiro(x.loc[x[\"Grupo de control\"] == \"<30\"][\"Nivel glucosa 60 min\"])\n",
    "b = stats.shapiro(x.loc[x[\"Grupo de control\"] == \">30\"][\"Nivel glucosa 60 min\"])\n",
    "\n",
    "print(f\"Los resultados para el test de Shapiro-Wilk en los jóvenes son estos: {a}\")\n",
    "print(f\"Los resultados para el test de Shapiro-Wilk en los adultos son estos: {b}\")"
   ]
  },
  {
   "cell_type": "markdown",
   "id": "0685c9a1",
   "metadata": {},
   "source": [
    "#### Observamos que la prueba no es significativa al 95% (p-value>0.05), por lo que no podemos rechazar la hipótesis de nula de que la distribución de las muestras sigue una normal.\n",
    "#### No obstante, lo mejor para comprobarlo es realizar un gráfico Q-Q y observar la función de densidad de la distribuciones\n",
    "#### Naturalmente, en primer lugar, debemos estandarizar los valores de las variables:\n",
    "\n",
    "$z_i = \\frac{x_i - \\bar{x}}{s}$"
   ]
  },
  {
   "cell_type": "code",
   "execution_count": 24,
   "id": "70d28700",
   "metadata": {},
   "outputs": [
    {
     "data": {
      "text/plain": [
       "((array([-1.99833768, -1.59452553, -1.35103668, -1.1686393 , -1.01855497,\n",
       "         -0.8884856 , -0.77194854, -0.66506298, -0.56529149, -0.47085985,\n",
       "         -0.38045711, -0.29306636, -0.20786198, -0.12414301, -0.04128669,\n",
       "          0.04128669,  0.12414301,  0.20786198,  0.29306636,  0.38045711,\n",
       "          0.47085985,  0.56529149,  0.66506298,  0.77194854,  0.8884856 ,\n",
       "          1.01855497,  1.1686393 ,  1.35103668,  1.59452553,  1.99833768]),\n",
       "  array([-0.58269148, -0.30161581, -0.16107798, -0.09080906, -0.02054014,\n",
       "         -0.02054014, -0.02054014,  0.04972877,  0.26053552,  0.40107335,\n",
       "          0.6118801 ,  0.6118801 ,  0.68214902,  0.82268685,  0.82268685,\n",
       "          0.82268685,  0.82268685,  0.89295577,  0.96322469,  0.96322469,\n",
       "          1.24430035,  1.31456927,  1.38483818,  1.4551071 ,  1.52537602,\n",
       "          1.59564493,  1.66591385,  1.94698952,  2.08752735,  2.57940977])),\n",
       " (0.7951933823497835, 0.810975366981301, 0.9905490541038716))"
      ]
     },
     "execution_count": 24,
     "metadata": {},
     "output_type": "execute_result"
    },
    {
     "data": {
      "image/png": "[encoded data removed]",
      "text/plain": [
       "<Figure size 432x288 with 1 Axes>"
      ]
     },
     "metadata": {
      "needs_background": "light"
     },
     "output_type": "display_data"
    }
   ],
   "source": [
    "import pylab\n",
    "\n",
    "#estandarizamos los valores para poder compararlos mejor con una normal\n",
    "x[\"valores estandarizados\"] = (x[\"Nivel glucosa 60 min\"] - np.mean(x[\"Nivel glucosa 60 min\"]))/np.std(x[\"Nivel glucosa 60 min\"], ddof=1)\n",
    "\n",
    "# realizamos un qqplot para cada grupo\n",
    "stats.probplot(x.loc[x[\"Grupo de control\"] == \"<30\"][\"valores estandarizados\"], dist=\"norm\", plot=pylab)\n",
    "stats.probplot(x.loc[x[\"Grupo de control\"] == \">30\"][\"valores estandarizados\"], dist=\"norm\", plot=pylab)"
   ]
  },
  {
   "cell_type": "code",
   "execution_count": 25,
   "id": "9c26b64b",
   "metadata": {},
   "outputs": [
    {
     "data": {
      "image/png": "[encoded data removed]",
      "text/plain": [
       "<Figure size 432x288 with 1 Axes>"
      ]
     },
     "metadata": {
      "needs_background": "light"
     },
     "output_type": "display_data"
    }
   ],
   "source": [
    "sns.kdeplot(x=x[\"Nivel glucosa 60 min\"], hue=x[\"Grupo de control\"]);"
   ]
  },
  {
   "cell_type": "markdown",
   "id": "c23790b2",
   "metadata": {},
   "source": [
    "#### En general, los gráficos sugieren que el test es correcto: no parece haber graves problemas en asumir normalidad en las muestras para el nivel de glucosa al pasar 60 min, aunque estén algo lejos de igualar la distribución esperada (45º en el qqplot)"
   ]
  },
  {
   "cell_type": "markdown",
   "id": "969670fc",
   "metadata": {},
   "source": [
    "## Ejercicio 2"
   ]
  },
  {
   "cell_type": "markdown",
   "id": "c22f9605",
   "metadata": {},
   "source": [
    "### a) Estudiar la relación lineal existente entre estas dos variables de estudio"
   ]
  },
  {
   "cell_type": "markdown",
   "id": "688f4d5b",
   "metadata": {},
   "source": [
    "#### Utilizamos el coeficiente de correlación de pearson"
   ]
  },
  {
   "cell_type": "code",
   "execution_count": 26,
   "id": "dda4b498",
   "metadata": {},
   "outputs": [
    {
     "data": {
      "text/plain": [
       "(0.7964052566841132, 1.0560420013792886e-08)"
      ]
     },
     "execution_count": 26,
     "metadata": {},
     "output_type": "execute_result"
    }
   ],
   "source": [
    "# tal y como indica el enunciado, vamos a estudiar únicamente el grupo de jóvenes\n",
    "x = df.loc[df[\"Grupo de control\"] == \"<30\"]\n",
    "\n",
    "stats.pearsonr(x[\"Nivel glucosa basal\"], x[\"Nivel glucosa 60 min\"])"
   ]
  },
  {
   "cell_type": "markdown",
   "id": "8950abaf",
   "metadata": {},
   "source": [
    "#### Observamos una relación lineal positiva y fuerte entre ambas variables, con un nivel de significatividad superior al 99%"
   ]
  },
  {
   "cell_type": "markdown",
   "id": "f0b095be",
   "metadata": {},
   "source": [
    "### b) Obtener un modelo lineal que explica el nivel de glucosa en sangre a los 60 minutos en función del nivel basal del paciente y realizar la estimación para un paciente cuyo nivel basal es 83 mg/Dl"
   ]
  },
  {
   "cell_type": "markdown",
   "id": "0b8a8e6a",
   "metadata": {},
   "source": [
    "#### Realizamos un modelo de regresión  lineal simple, de manera que\n",
    "$y = \\alpha + \\beta{x} + \\epsilon$\n",
    "\n",
    "#### donde la predicción de la variable objetivo y viene dada por:\n",
    "\n",
    "$\\hat{y}_i = \\alpha + \\beta{x_i}$\n",
    "\n",
    "#### por lo tanto los errores se definen como: \n",
    "\n",
    "$\\epsilon_i = y_i - \\hat{y_i}$\n",
    "\n",
    "#### tratando de minimizar la siguiente función de pérdida:\n",
    "\n",
    "$SSR = \\sum \\limits _{i=1} ^{n}(\\epsilon_i)^2$\n"
   ]
  },
  {
   "cell_type": "code",
   "execution_count": 13,
   "id": "5c68d0e4",
   "metadata": {},
   "outputs": [
    {
     "data": {
      "text/html": [
       "<table class=\"simpletable\">\n",
       "<caption>OLS Regression Results</caption>\n",
       "<tr>\n",
       "  <th>Dep. Variable:</th>    <td>Nivel glucosa 60 min</td> <th>  R-squared:         </th> <td>   0.634</td>\n",
       "</tr>\n",
       "<tr>\n",
       "  <th>Model:</th>                     <td>OLS</td>         <th>  Adj. R-squared:    </th> <td>   0.623</td>\n",
       "</tr>\n",
       "<tr>\n",
       "  <th>Method:</th>               <td>Least Squares</td>    <th>  F-statistic:       </th> <td>   57.23</td>\n",
       "</tr>\n",
       "<tr>\n",
       "  <th>Date:</th>               <td>Wed, 30 Nov 2022</td>   <th>  Prob (F-statistic):</th> <td>1.06e-08</td>\n",
       "</tr>\n",
       "<tr>\n",
       "  <th>Time:</th>                   <td>11:44:41</td>       <th>  Log-Likelihood:    </th> <td> -103.17</td>\n",
       "</tr>\n",
       "<tr>\n",
       "  <th>No. Observations:</th>        <td>    35</td>        <th>  AIC:               </th> <td>   210.3</td>\n",
       "</tr>\n",
       "<tr>\n",
       "  <th>Df Residuals:</th>            <td>    33</td>        <th>  BIC:               </th> <td>   213.5</td>\n",
       "</tr>\n",
       "<tr>\n",
       "  <th>Df Model:</th>                <td>     1</td>        <th>                     </th>     <td> </td>   \n",
       "</tr>\n",
       "<tr>\n",
       "  <th>Covariance Type:</th>        <td>nonrobust</td>      <th>                     </th>     <td> </td>   \n",
       "</tr>\n",
       "</table>\n",
       "<table class=\"simpletable\">\n",
       "<tr>\n",
       "           <td></td>              <th>coef</th>     <th>std err</th>      <th>t</th>      <th>P>|t|</th>  <th>[0.025</th>    <th>0.975]</th>  \n",
       "</tr>\n",
       "<tr>\n",
       "  <th>const</th>               <td>   91.3837</td> <td>    7.843</td> <td>   11.652</td> <td> 0.000</td> <td>   75.428</td> <td>  107.339</td>\n",
       "</tr>\n",
       "<tr>\n",
       "  <th>Nivel glucosa basal</th> <td>    0.6969</td> <td>    0.092</td> <td>    7.565</td> <td> 0.000</td> <td>    0.509</td> <td>    0.884</td>\n",
       "</tr>\n",
       "</table>\n",
       "<table class=\"simpletable\">\n",
       "<tr>\n",
       "  <th>Omnibus:</th>       <td> 1.394</td> <th>  Durbin-Watson:     </th> <td>   1.615</td>\n",
       "</tr>\n",
       "<tr>\n",
       "  <th>Prob(Omnibus):</th> <td> 0.498</td> <th>  Jarque-Bera (JB):  </th> <td>   1.175</td>\n",
       "</tr>\n",
       "<tr>\n",
       "  <th>Skew:</th>          <td> 0.433</td> <th>  Prob(JB):          </th> <td>   0.556</td>\n",
       "</tr>\n",
       "<tr>\n",
       "  <th>Kurtosis:</th>      <td> 2.765</td> <th>  Cond. No.          </th> <td>    832.</td>\n",
       "</tr>\n",
       "</table><br/><br/>Notes:<br/>[1] Standard Errors assume that the covariance matrix of the errors is correctly specified."
      ],
      "text/plain": [
       "<class 'statsmodels.iolib.summary.Summary'>\n",
       "\"\"\"\n",
       "                             OLS Regression Results                             \n",
       "================================================================================\n",
       "Dep. Variable:     Nivel glucosa 60 min   R-squared:                       0.634\n",
       "Model:                              OLS   Adj. R-squared:                  0.623\n",
       "Method:                   Least Squares   F-statistic:                     57.23\n",
       "Date:                  Wed, 30 Nov 2022   Prob (F-statistic):           1.06e-08\n",
       "Time:                          11:44:41   Log-Likelihood:                -103.17\n",
       "No. Observations:                    35   AIC:                             210.3\n",
       "Df Residuals:                        33   BIC:                             213.5\n",
       "Df Model:                             1                                         \n",
       "Covariance Type:              nonrobust                                         \n",
       "=======================================================================================\n",
       "                          coef    std err          t      P>|t|      [0.025      0.975]\n",
       "---------------------------------------------------------------------------------------\n",
       "const                  91.3837      7.843     11.652      0.000      75.428     107.339\n",
       "Nivel glucosa basal     0.6969      0.092      7.565      0.000       0.509       0.884\n",
       "==============================================================================\n",
       "Omnibus:                        1.394   Durbin-Watson:                   1.615\n",
       "Prob(Omnibus):                  0.498   Jarque-Bera (JB):                1.175\n",
       "Skew:                           0.433   Prob(JB):                        0.556\n",
       "Kurtosis:                       2.765   Cond. No.                         832.\n",
       "==============================================================================\n",
       "\n",
       "Notes:\n",
       "[1] Standard Errors assume that the covariance matrix of the errors is correctly specified.\n",
       "\"\"\""
      ]
     },
     "execution_count": 13,
     "metadata": {},
     "output_type": "execute_result"
    }
   ],
   "source": [
    "import statsmodels.api as sm\n",
    "\n",
    "# es necesario separar las variables independientes de la dependiente y añadir una constante para las primeras\n",
    "X = sm.add_constant(x[\"Nivel glucosa basal\"])\n",
    "\n",
    "Y = x[\"Nivel glucosa 60 min\"]\n",
    "\n",
    "model = sm.OLS(Y, X).fit()\n",
    "model.summary()"
   ]
  },
  {
   "cell_type": "markdown",
   "id": "2cbc215e",
   "metadata": {},
   "source": [
    "#### Obtenemos el siguiente modelo:\n",
    "\n",
    "$Nivel glucosa 60min = 91.3837 + Nivel glucosabasal*0.6969$"
   ]
  },
  {
   "cell_type": "code",
   "execution_count": 14,
   "id": "66455d02",
   "metadata": {},
   "outputs": [
    {
     "data": {
      "text/plain": [
       "149.2264"
      ]
     },
     "execution_count": 14,
     "metadata": {},
     "output_type": "execute_result"
    }
   ],
   "source": [
    "91.3837 + 83*0.6969"
   ]
  },
  {
   "cell_type": "markdown",
   "id": "58b7d84f",
   "metadata": {},
   "source": [
    "#### El modelo lineal nos dice que por cada gramo de glucosa inicial, el nivel a los 60 minutos aumentará en casi 0.70g, por lo que un sujeto cuyo nivel inicial sea de 83g, tendrá un nivel esperado de unos 149.23g cuando pase una hora. "
   ]
  },
  {
   "cell_type": "markdown",
   "id": "c2a03f0e",
   "metadata": {},
   "source": [
    "#### Es razonable comprobar si el modelo cumple con los supuestos de normalidad y homocedasticidad, para ello creemos que lo más rápido es visualizar los datos de los residuos:\n",
    "* $\\epsilon \\sim \\mathcal{N}(0, \\sigma)$\n",
    "* $Var(\\epsilon) = \\sigma^2$ $\\forall$  $i...n$"
   ]
  },
  {
   "cell_type": "code",
   "execution_count": 90,
   "id": "3756e08a",
   "metadata": {},
   "outputs": [
    {
     "data": {
      "image/png": "[encoded data removed]",
      "text/plain": [
       "<Figure size 432x288 with 1 Axes>"
      ]
     },
     "metadata": {
      "needs_background": "light"
     },
     "output_type": "display_data"
    }
   ],
   "source": [
    "plt.scatter(model.predict(X), model.resid)\n",
    "plt.axhline(np.mean(model.resid), color=\"red\")\n",
    "plt.title(\"Los residuos parecen distribuirse aleatoriamente\")\n",
    "plt.xlabel(\"predicciones\")\n",
    "plt.ylabel(\"residuos\");"
   ]
  },
  {
   "cell_type": "code",
   "execution_count": 91,
   "id": "2a25acc8",
   "metadata": {},
   "outputs": [
    {
     "data": {
      "image/png": "[encoded data removed]",
      "text/plain": [
       "<Figure size 432x288 with 1 Axes>"
      ]
     },
     "metadata": {
      "needs_background": "light"
     },
     "output_type": "display_data"
    }
   ],
   "source": [
    "sm.qqplot(model.resid, line ='45')\n",
    "plt.title(\"El modelo está muy lejos de la normalidad\");"
   ]
  },
  {
   "cell_type": "markdown",
   "id": "8137c355",
   "metadata": {},
   "source": [
    "#### Ahora vamos a observar si podemos asumir que la relación es lineal:"
   ]
  },
  {
   "cell_type": "code",
   "execution_count": 139,
   "id": "70d945a1",
   "metadata": {},
   "outputs": [
    {
     "data": {
      "image/png": "[encoded data removed]",
      "text/plain": [
       "<Figure size 576x432 with 1 Axes>"
      ]
     },
     "metadata": {
      "needs_background": "light"
     },
     "output_type": "display_data"
    }
   ],
   "source": [
    "plt.figure(figsize=(8,6))\n",
    "sns.scatterplot(data=df, x=\"Nivel glucosa basal\", y=\"Nivel glucosa 60 min\");"
   ]
  },
  {
   "cell_type": "markdown",
   "id": "df2b10cc",
   "metadata": {},
   "source": [
    "#### El modulo no es muy robusto, ya que, aunque parece que la varianza es constante, los residuos estándares no parecen seguir una distribución normal. Con respecto a la linealidad, resulta difícil observar otro patrón, así que es razonable elegir este modelo en lugar de otros polinomiales más complejos"
   ]
  },
  {
   "cell_type": "markdown",
   "id": "7dde1333",
   "metadata": {},
   "source": [
    "### c) ¿Qué tanto por ciento del nivel de glucosa en sangre pasados 60 minutos queda no queda explicado por el anterior modelo?"
   ]
  },
  {
   "cell_type": "markdown",
   "id": "d45cc3ac",
   "metadata": {},
   "source": [
    "#### dado que el R cuadrado es 0.634, el porcentaje de varianza no explicado será del 36,4% (100*(1 - 0.634)), lo que indica que el modelo explica moderadamente el nivel basal a los 60 minutos, posiblemente porque existan otras variables influyentes, como el tipo de dieta u otras enfermedades. Si queremos generalizar el modelo a la población, el porcentaje de varianza no explicado ascenderá al 37,7% (R cuadrado ajustado del 0.623)."
   ]
  },
  {
   "cell_type": "markdown",
   "id": "562b4c6b",
   "metadata": {},
   "source": [
    "### d) Si aumentásemos el nivel basal de un paciente en 5 mg/Dl ¿Qué variación experimentaría su nivel de glucosa al cabo de 60 minutos?"
   ]
  },
  {
   "cell_type": "code",
   "execution_count": 92,
   "id": "bf1ebb85",
   "metadata": {},
   "outputs": [
    {
     "data": {
      "text/plain": [
       "3.4844999999999997"
      ]
     },
     "execution_count": 92,
     "metadata": {},
     "output_type": "execute_result"
    }
   ],
   "source": [
    "5*0.6969"
   ]
  },
  {
   "cell_type": "markdown",
   "id": "c9d9c326",
   "metadata": {},
   "source": [
    "#### Su nivel basal aumentaría en torno a 3.49 miligramos "
   ]
  },
  {
   "cell_type": "markdown",
   "id": "90a9fe7a",
   "metadata": {},
   "source": [
    "## Ejercicio 3."
   ]
  },
  {
   "cell_type": "markdown",
   "id": "5b08e78e",
   "metadata": {},
   "source": [
    "### a) Se quiere estudiar si se puede admitir que el nivel medio de glucosa en sangre en el momento de la ingestión en los jóvenes es 88 mg/Dl. Obtener el intervalo de confianza al 95% y al 99% para el nivel medio de glucosa en sangre de los jóvenes y posteriormente contesta a la cuestión planteada con los resultados obtenidos o con un contraste de hipótesis."
   ]
  },
  {
   "cell_type": "markdown",
   "id": "a0fdaea4",
   "metadata": {},
   "source": [
    "#### cálculo de intervalos"
   ]
  },
  {
   "cell_type": "markdown",
   "id": "7577628e",
   "metadata": {},
   "source": [
    "#### En primer lugar, debemos ver si podemos asumir que las variables siguen una distribución normal, así que tenemos que comprobar este supuesto"
   ]
  },
  {
   "cell_type": "code",
   "execution_count": 27,
   "id": "994fc769",
   "metadata": {},
   "outputs": [
    {
     "name": "stdout",
     "output_type": "stream",
     "text": [
      "Los resultados para el test de Shapiro-Wilk en los jóvenes en el nivel basal son estos: ShapiroResult(statistic=0.9678659439086914, pvalue=0.3873666524887085)\n"
     ]
    }
   ],
   "source": [
    "x = df.loc[df[\"Grupo de control\"] == \"<30\"][\"Nivel glucosa basal\"]\n",
    "\n",
    "a = stats.shapiro(x)\n",
    "print(f\"Los resultados para el test de Shapiro-Wilk en los jóvenes en el nivel basal son estos: {a}\")"
   ]
  },
  {
   "cell_type": "markdown",
   "id": "028cd058",
   "metadata": {},
   "source": [
    "#### Como no podemos rechazar la hipótesis nula, asumimos que sigue una distribución normal "
   ]
  },
  {
   "cell_type": "code",
   "execution_count": 28,
   "id": "e4927f18",
   "metadata": {},
   "outputs": [
    {
     "name": "stdout",
     "output_type": "stream",
     "text": [
      "el intervalo de confianza al 95% de nivel de glucosa basal para la media en los jóvenes es (81.64758693301904, 87.72384163840952)\n",
      "el intervalo de confianza al 99% de nivel de glucosa basal para la media en los jóvenes es (80.60686967940265, 88.76455889202592)\n"
     ]
    }
   ],
   "source": [
    "a = stats.t.interval(alpha=0.95, df=len(x)-1, loc=np.mean(x), scale=stats.sem(x)) \n",
    "\n",
    "b = stats.t.interval(alpha=0.99, df=len(x)-1, loc=np.mean(x), scale=stats.sem(x)) \n",
    "\n",
    "print(f\"el intervalo de confianza al 95% de nivel de glucosa basal para la media en los jóvenes es {a}\")\n",
    "print(f\"el intervalo de confianza al 99% de nivel de glucosa basal para la media en los jóvenes es {b}\")"
   ]
  },
  {
   "cell_type": "markdown",
   "id": "1d5bee53",
   "metadata": {},
   "source": [
    "#### Si asumimos un nivel de confianza del 99%, entonces podemos decir que en la población de jóvenes, la media podría ser de 88mg, no obstante, si asumimos un nivel de confianza del 95%, debemos rechazar esta hipótesis"
   ]
  },
  {
   "cell_type": "markdown",
   "id": "713006b9",
   "metadata": {},
   "source": [
    "#### El test t para dos muestras tiene como hipótesis nula que la media de dos distribuciones son iguales:\n",
    "\n",
    "$H_0: \\mu_x = \\mu_y$\n",
    "\n",
    "$H_1: \\mu_x \\neq \\mu_y$\n",
    "\n",
    "#### Para responder a la pregunta anterior, creamos una variable *y* que siga una normal de media 88 y desviación típica igual a la desviación típica muestral de la variable x (asumiendo que *y* es la población de la que se ha escogido *x*). Se ha escogido como tamaño de población  n=10000. Esto se justifica porque en la librería *scipy*, al realizar el t test, debemos utilizar necesariamente un vector columna en los argumentos de la función.\n",
    "\n",
    "$y \\sim \\mathcal{N}(88, s_x)$\n",
    "\n",
    "$n_y = 10000$"
   ]
  },
  {
   "cell_type": "code",
   "execution_count": 29,
   "id": "6f75f518",
   "metadata": {},
   "outputs": [
    {
     "data": {
      "text/plain": [
       "Ttest_indResult(statistic=-2.22324389099725, pvalue=0.026221548832707223)"
      ]
     },
     "execution_count": 29,
     "metadata": {},
     "output_type": "execute_result"
    }
   ],
   "source": [
    "y = np.random.normal(loc=88, scale=np.std(x, ddof=1), size=10000)\n",
    "\n",
    "# equal_var es importante, ya que indica que asumimos varianzas iguales (sino estaríamos realizando un test de Welch)\n",
    "# Este y el resto de tests son de dos colas, la versión por defecto de la función en scipy\n",
    "stats.ttest_ind(x, y, equal_var=True)"
   ]
  },
  {
   "cell_type": "markdown",
   "id": "51755b93",
   "metadata": {},
   "source": [
    "#### los resultados del t-test confirman nuestro comentario anterior"
   ]
  },
  {
   "cell_type": "markdown",
   "id": "a782af7d",
   "metadata": {},
   "source": [
    "### b) Obtener los intervalos de confianza al 95% y al 99 % para la diferencia de medias en el nivel basal de glucosa entre adultos y jovenes e interpreta los resultados. ¿Se puede concluir que el nivel basal de glucosa de los jóvenes y los adultos es el mismo? ¿Se cumplen las hipótesis iniciales para determinar los intervalos de confianza?"
   ]
  },
  {
   "cell_type": "markdown",
   "id": "b8f70bc0",
   "metadata": {},
   "source": [
    "#### Antes de nada, debemos comprobar si podemos asumir que las variables son normales y tienen la misma varianza"
   ]
  },
  {
   "cell_type": "code",
   "execution_count": 30,
   "id": "7317dcbc",
   "metadata": {},
   "outputs": [
    {
     "name": "stdout",
     "output_type": "stream",
     "text": [
      "Los resultados para el test de Shapiro-Wilk en los jóvenes en el nivel basal son estos: ShapiroResult(statistic=0.9678659439086914, pvalue=0.3873666524887085)\n",
      "Los resultados para el test de Shapiro-Wilk en los adultos en el nivel basal son estos: ShapiroResult(statistic=0.9675340056419373, pvalue=0.4740930497646332)\n"
     ]
    }
   ],
   "source": [
    "x = df.loc[df[\"Grupo de control\"] == \"<30\"][\"Nivel glucosa basal\"] \n",
    "y = df.loc[df[\"Grupo de control\"] == \">30\"][\"Nivel glucosa basal\"]\n",
    "\n",
    "a = stats.shapiro(x)\n",
    "b = stats.shapiro(y)\n",
    "\n",
    "print(f\"Los resultados para el test de Shapiro-Wilk en los jóvenes en el nivel basal son estos: {a}\")\n",
    "print(f\"Los resultados para el test de Shapiro-Wilk en los adultos en el nivel basal son estos: {b}\")"
   ]
  },
  {
   "cell_type": "markdown",
   "id": "cf4d49c8",
   "metadata": {},
   "source": [
    "#### La prueba de Levene asume como hipótesis nula la igualdad de varianzas:\n",
    "\n",
    "$H_0: {\\sigma^2}_x = {\\sigma^2}_y$\n",
    "\n",
    "$H_1: {\\sigma^2}_x \\neq {\\sigma^2}_y$\n"
   ]
  },
  {
   "cell_type": "code",
   "execution_count": 31,
   "id": "c4cada38",
   "metadata": {},
   "outputs": [
    {
     "name": "stdout",
     "output_type": "stream",
     "text": [
      "Los resultados para el test de Levene entro los jóvenes y los adultos en el nivel basal son estos: LeveneResult(statistic=2.1614996904779904, pvalue=0.14648337567031314)\n"
     ]
    }
   ],
   "source": [
    "# se ha preferido centrar por la media en lugar de la mediana, ya que lo que tratamos de ver posteriormente es la diferencia de medias\n",
    "a = stats.levene(x, y, center = 'mean')\n",
    "print(f\"Los resultados para el test de Levene entro los jóvenes y los adultos en el nivel basal son estos: {a}\")"
   ]
  },
  {
   "cell_type": "markdown",
   "id": "d789d4e8",
   "metadata": {},
   "source": [
    "#### No podemos rechazar la hipótesis nula en ninguno de los test, por lo que no tenemos problema en realizar un test t"
   ]
  },
  {
   "cell_type": "markdown",
   "id": "3bd68504",
   "metadata": {},
   "source": [
    "#### dado que:\n",
    "\n",
    "${\\sigma^2}_x = {\\sigma^2}_y$\n",
    "\n",
    "$n_x \\approx n_y$\n",
    "\n",
    "#### Obtenemos los intervalos mediante esta fórmula:\n",
    "\n",
    "$(\\bar{x} - \\bar{y}) \\pm t_{\\frac{\\alpha}{2}, df} S_p\\sqrt{\\frac{1}{n_x}+{\\frac{1}{n_y}}}$\n",
    "\n",
    "#### donde\n",
    "\n",
    "$df = n_x + n_y - 2$\n",
    "\n",
    "$S_p = \\sqrt{\\frac{(n_1 - 1){s_x}^2 + (n_2 - 1){s_y}^2}{df}}$\n",
    "\n",
    "$\\alpha = 0.05$"
   ]
  },
  {
   "cell_type": "code",
   "execution_count": 32,
   "id": "90b55d9e",
   "metadata": {},
   "outputs": [
    {
     "name": "stdout",
     "output_type": "stream",
     "text": [
      "el intervalo de confianza al 95% de nivel de glucosa basal para la diferencia de medias es (8.785850912322415, 0.6427205162490299)\n",
      "el intervalo de confianza al 99% de nivel de glucosa basal para la diferencia de medias es (10.12610989442638, -0.6975384658549348)\n"
     ]
    }
   ],
   "source": [
    "# es posible hacerlo de manera automática con otras librerías (p. ej. pingouin), pero no viene mal un poco de cálculo\n",
    "S = np.sqrt((((len(x)-1)*np.var(x, ddof=1)) + (len(y)-1)*np.var(y, ddof=1))/(len(df)-2))\n",
    "\n",
    "# ponemos la diferencia de medias como absoluto para visualizar mejor el intervalo\n",
    "a = abs(np.mean(x) - np.mean(y)) - stats.t.ppf(0.05/2, len(df) -2)*S*np.sqrt((1/len(x)) + (1/len(y)))\n",
    "b = abs(np.mean(x) - np.mean(y)) + stats.t.ppf(0.05/2, len(df) -2)*S*np.sqrt((1/len(x)) + (1/len(y)))\n",
    "c = abs(np.mean(x) - np.mean(y)) - stats.t.ppf(0.01/2, len(df) -2)*S*np.sqrt((1/len(x)) + (1/len(y)))\n",
    "d = abs(np.mean(x) - np.mean(y)) + stats.t.ppf(0.01/2, len(df) -2)*S*np.sqrt((1/len(x)) + (1/len(y)))\n",
    "\n",
    "print(f\"el intervalo de confianza al 95% de nivel de glucosa basal para la diferencia de medias es {a, b}\")\n",
    "print(f\"el intervalo de confianza al 99% de nivel de glucosa basal para la diferencia de medias es {c, d}\")"
   ]
  },
  {
   "cell_type": "markdown",
   "id": "dbfd8733",
   "metadata": {},
   "source": [
    "#### Los intervalos de confianza nos indican que podemos asumir que las medias del nivel de glucosa basal de los jóvenes y los adultos son distintas (su diferencia no es cero) si asumimos un nivel de confianza del 95%. En cambio, si asumimos un nivel de confianza del 99%, no podemos rechazar la hipótesis nula y por lo tanto debemos decir que son iguales."
   ]
  },
  {
   "cell_type": "markdown",
   "id": "6d4de3d4",
   "metadata": {},
   "source": [
    "#### Realizamos el T test\n",
    "\n",
    "$H_0: \\mu_x = \\mu_y$\n",
    "\n",
    "$H_1: \\mu_x \\neq \\mu_y$"
   ]
  },
  {
   "cell_type": "code",
   "execution_count": 33,
   "id": "c28b9760",
   "metadata": {},
   "outputs": [
    {
     "data": {
      "text/plain": [
       "Ttest_indResult(statistic=-2.313790350918938, pvalue=0.02395437407383346)"
      ]
     },
     "execution_count": 33,
     "metadata": {},
     "output_type": "execute_result"
    }
   ],
   "source": [
    "stats.ttest_ind(x, y, equal_var=True)"
   ]
  },
  {
   "cell_type": "markdown",
   "id": "21d36b8c",
   "metadata": {},
   "source": [
    "#### El tes t nos indica que la diferencia estimada es de 2.31mg (siendo superior la de los adultos) y que el p-valor es 0.02, naturalmente esto coincide con nuestro cálculo anterior (0.05 > 0.02 > 0.01)."
   ]
  },
  {
   "cell_type": "markdown",
   "id": "0ba74f48",
   "metadata": {},
   "source": [
    "### c) Se quiere estudiar la proporción de la población con un nivel basal de glucosa superior a 95 mg/Dl (prediabetes). A partir de la muestra del fichero (tomando todos los datos) obtener un intervalo de confianza al 98% y contrastar la hipótesis que la proporción de la población con glucosa superior a 95 mg/Dl es 0,15 con nivel de significación del 5%."
   ]
  },
  {
   "cell_type": "markdown",
   "id": "f50ce314",
   "metadata": {},
   "source": [
    "#### Cálculo de proporción en la muestra"
   ]
  },
  {
   "cell_type": "code",
   "execution_count": 44,
   "id": "63f7b219",
   "metadata": {},
   "outputs": [
    {
     "name": "stdout",
     "output_type": "stream",
     "text": [
      "la proporción de la muestra que tiene un nivel de glucosa basal superior a 95mg es de 0.16923076923076924\n"
     ]
    }
   ],
   "source": [
    "x = len(df.loc[df[\"Nivel glucosa basal\"] > 95][\"Nivel glucosa basal\"])/len(df)\n",
    "print(f\"la proporción de la muestra que tiene un nivel de glucosa basal superior a 95mg es de {x}\")"
   ]
  },
  {
   "cell_type": "markdown",
   "id": "3d9bd35b",
   "metadata": {},
   "source": [
    "#### Existen muchas pruebas de diferencias en proporciones, nosotros hemos escogido la binomial porque es con la que estamos más familiarizados y la que creemos más intuitiva. Asume como hipótesis nula que la probabilidad es igual a la proporción que le asignamos (0.15 en este caso)\n",
    "\n",
    "$H_0: p_x = 0.15$\n",
    "\n",
    "$H_1: p_x \\neq 0.15$"
   ]
  },
  {
   "cell_type": "code",
   "execution_count": 45,
   "id": "a2c40346",
   "metadata": {},
   "outputs": [
    {
     "data": {
      "text/plain": [
       "BinomTestResult(k=11, n=65, alternative='two-sided', proportion_estimate=0.16923076923076924, pvalue=0.6047971212313175)"
      ]
     },
     "execution_count": 45,
     "metadata": {},
     "output_type": "execute_result"
    }
   ],
   "source": [
    "a = stats.binomtest(k=len(df.loc[df[\"Nivel glucosa basal\"]> 95][\"Nivel glucosa basal\"]), n=len(df), p=0.15)\n",
    "a"
   ]
  },
  {
   "cell_type": "markdown",
   "id": "37ad22e3",
   "metadata": {},
   "source": [
    "#### No podemos rechazar la hipótesis nula de que la proporción de la población con un nivel de glucosa basal superior a 95mg sea del 15% con un nivel de significatividad del 5%"
   ]
  },
  {
   "cell_type": "markdown",
   "id": "996efecf",
   "metadata": {},
   "source": [
    "#### Cálculo del nivel de confianza al 98% de las diferencias en proporciones"
   ]
  },
  {
   "cell_type": "code",
   "execution_count": 46,
   "id": "96b8cef0",
   "metadata": {},
   "outputs": [
    {
     "data": {
      "text/plain": [
       "ConfidenceInterval(low=0.07658425742442686, high=0.3042740124538165)"
      ]
     },
     "execution_count": 46,
     "metadata": {},
     "output_type": "execute_result"
    }
   ],
   "source": [
    "a.proportion_ci(confidence_level=0.98)"
   ]
  },
  {
   "cell_type": "markdown",
   "id": "b5a57419",
   "metadata": {},
   "source": [
    "#### El intervalo de confianza del 98% nos muestra, al igual que el test anterior, que con este nivel de significatividad no podemos rechazar la hipótesis nula. También nos sugiere que el intervalo es muy amplio, aunque diferente de cero, por lo que deberíamos tener cuidado a la hora de sugerir la proporción real en la población"
   ]
  },
  {
   "cell_type": "markdown",
   "id": "889d539a",
   "metadata": {},
   "source": [
    "### d) *(VOLUNTARIO)* ¿Se detecta una variación significativa del nivel de glucosa en sangre en el grupo de los adultos después de la toma? \n",
    "#### Nota: Se pretende comprobar si, como muestran los datos, los niveles de glucosa en sangre son distintos para los adultos en el momento de la ingestión y a los 60 minutos, por ello para contestar a la pregunta has de considerar las series de datos obtenidas a partir de las diferencias entre el nivel basal y el nivel de glucosa al cabo de 60 minutos en el grupo de los adultos (contraste de muestras emparejadas). Plantea el correspondiente contraste de hipótesis considerando un nivel de significación del 5%."
   ]
  },
  {
   "cell_type": "markdown",
   "id": "3bba8599",
   "metadata": {},
   "source": [
    "#### Observamos si las muestras siguen una distribución normal y su varianza es similar"
   ]
  },
  {
   "cell_type": "code",
   "execution_count": 47,
   "id": "082fd3bc",
   "metadata": {},
   "outputs": [
    {
     "name": "stdout",
     "output_type": "stream",
     "text": [
      "Los resultados para el test de Shapiro-Wilk en los adultos en el nivel basal son estos: ShapiroResult(statistic=0.9675340056419373, pvalue=0.4740930497646332)\n",
      "Los resultados para el test de Shapiro-Wilk en los adultos pasada un hora son estos: ShapiroResult(statistic=0.9776136875152588, pvalue=0.7591814398765564)\n"
     ]
    }
   ],
   "source": [
    "x = df.loc[df[\"Grupo de control\"] == \">30\"][\"Nivel glucosa basal\"] \n",
    "y = df.loc[df[\"Grupo de control\"] == \">30\"][\"Nivel glucosa 60 min\"]\n",
    "\n",
    "a = stats.shapiro(x)\n",
    "b = stats.shapiro(y)\n",
    "\n",
    "print(f\"Los resultados para el test de Shapiro-Wilk en los adultos en el nivel basal son estos: {a}\")\n",
    "print(f\"Los resultados para el test de Shapiro-Wilk en los adultos pasada un hora son estos: {b}\")"
   ]
  },
  {
   "cell_type": "code",
   "execution_count": 48,
   "id": "f54bc3ba",
   "metadata": {},
   "outputs": [
    {
     "name": "stdout",
     "output_type": "stream",
     "text": [
      "Los resultados para el test de Levene entre los niveles basales iniciales y pasados son estos: LeveneResult(statistic=3.966959152016377, pvalue=0.05111719375735523)\n"
     ]
    }
   ],
   "source": [
    "a = stats.levene(x, y, center = 'mean')\n",
    "print(f\"Los resultados para el test de Levene entre los niveles basales iniciales y pasados son estos: {a}\")"
   ]
  },
  {
   "cell_type": "markdown",
   "id": "7d5aa6d1",
   "metadata": {},
   "source": [
    "#### Ambas muestras parecen comportarse como una normal según el test (No podemos rechazar la hipótesis nula, pvalor>0.95) y tampoco podemos rechazar que sus varianzas sean iguales si asumimos un nivel de confianza del 95% (pvalor>0.05). \n",
    "#### Procedemos a realizar el Test t para muestras emparejadas para comprobar si realmente los niveles de glucosa han cambiado. \n",
    "\n",
    "$H_0: \\mu_x = \\mu_y$\n",
    "\n",
    "$H_1: \\mu_x \\neq \\mu_y$"
   ]
  },
  {
   "cell_type": "code",
   "execution_count": 191,
   "id": "094fc741",
   "metadata": {},
   "outputs": [
    {
     "data": {
      "text/plain": [
       "Ttest_relResult(statistic=34.374098926722965, pvalue=4.712941398225408e-25)"
      ]
     },
     "execution_count": 191,
     "metadata": {},
     "output_type": "execute_result"
    }
   ],
   "source": [
    "# El t test para muestras pareadas (_rel) asume varianzas iguales siempre\n",
    "stats.ttest_rel(y, x)"
   ]
  },
  {
   "cell_type": "markdown",
   "id": "74ec7300",
   "metadata": {},
   "source": [
    "#### Podemos rechazar la hipótesis nula de que ambas muestras son iguales con más de un 99.99% de confianza y estimar su diferencia en 34.37mg, siendo superior pasados los 60 minutos"
   ]
  }
 ],
 "metadata": {
  "kernelspec": {
   "display_name": "Python 3 (ipykernel)",
   "language": "python",
   "name": "python3"
  },
  "language_info": {
   "codemirror_mode": {
    "name": "ipython",
    "version": 3
   },
   "file_extension": ".py",
   "mimetype": "text/x-python",
   "name": "python",
   "nbconvert_exporter": "python",
   "pygments_lexer": "ipython3",
   "version": "3.9.12"
  }
 },
 "nbformat": 4,
 "nbformat_minor": 5
}
